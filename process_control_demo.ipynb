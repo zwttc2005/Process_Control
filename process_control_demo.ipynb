{
 "cells": [
  {
   "cell_type": "markdown",
   "id": "dce5025d",
   "metadata": {},
   "source": [
    "# This is to test different *process control* models and ideas\n",
    "\n",
    "for example:\n",
    "- PID control\n",
    "- MPC\n",
    "- etc."
   ]
  },
  {
   "cell_type": "code",
   "execution_count": 1,
   "id": "b7118419",
   "metadata": {},
   "outputs": [],
   "source": [
    "from gekko import GEKKO"
   ]
  },
  {
   "cell_type": "code",
   "execution_count": null,
   "id": "4ebd99a2",
   "metadata": {},
   "outputs": [],
   "source": []
  }
 ],
 "metadata": {
  "kernelspec": {
   "display_name": "Python 3",
   "language": "python",
   "name": "python3"
  },
  "language_info": {
   "codemirror_mode": {
    "name": "ipython",
    "version": 3
   },
   "file_extension": ".py",
   "mimetype": "text/x-python",
   "name": "python",
   "nbconvert_exporter": "python",
   "pygments_lexer": "ipython3",
   "version": "3.8.13"
  },
  "vscode": {
   "interpreter": {
    "hash": "fea99bb6aee0ca4933a164afdc2b094b8e1d1786784c7f87f02da661054d2f5d"
   }
  }
 },
 "nbformat": 4,
 "nbformat_minor": 5
}
